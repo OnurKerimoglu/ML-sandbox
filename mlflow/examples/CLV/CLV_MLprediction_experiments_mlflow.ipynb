{
 "cells": [
  {
   "cell_type": "code",
   "execution_count": 9,
   "id": "6fd27577",
   "metadata": {},
   "outputs": [],
   "source": [
    "import numpy as np\n",
    "import pandas as pd\n",
    "import matplotlib.pyplot as plt\n",
    "%matplotlib inline\n",
    "import seaborn as sns\n",
    "from sklearn.metrics import confusion_matrix,classification_report,precision_recall_fscore_support,accuracy_score\n",
    "from sklearn.model_selection import cross_val_score, train_test_split\n",
    "import xgboost as xgb\n",
    "\n",
    "import mlflow"
   ]
  },
  {
   "cell_type": "code",
   "execution_count": 10,
   "id": "8c6169a9",
   "metadata": {},
   "outputs": [],
   "source": [
    "import pickle\n",
    "\n",
    "with open(\"tx_class.pkl\", \"rb\") as f:\n",
    "    tx_class = pickle.load(f)"
   ]
  },
  {
   "cell_type": "code",
   "execution_count": 11,
   "id": "50463353",
   "metadata": {},
   "outputs": [
    {
     "data": {
      "text/html": [
       "<div>\n",
       "<style scoped>\n",
       "    .dataframe tbody tr th:only-of-type {\n",
       "        vertical-align: middle;\n",
       "    }\n",
       "\n",
       "    .dataframe tbody tr th {\n",
       "        vertical-align: top;\n",
       "    }\n",
       "\n",
       "    .dataframe thead th {\n",
       "        text-align: right;\n",
       "    }\n",
       "</style>\n",
       "<table border=\"1\" class=\"dataframe\">\n",
       "  <thead>\n",
       "    <tr style=\"text-align: right;\">\n",
       "      <th></th>\n",
       "      <th>CustomerID</th>\n",
       "      <th>Recency</th>\n",
       "      <th>RecencyCluster</th>\n",
       "      <th>Frequency</th>\n",
       "      <th>FrequencyCluster</th>\n",
       "      <th>Revenue</th>\n",
       "      <th>RevenueCluster</th>\n",
       "      <th>OverallScore</th>\n",
       "      <th>m6_Revenue</th>\n",
       "      <th>LTVCluster</th>\n",
       "    </tr>\n",
       "  </thead>\n",
       "  <tbody>\n",
       "    <tr>\n",
       "      <th>count</th>\n",
       "      <td>3910.000000</td>\n",
       "      <td>3910.000000</td>\n",
       "      <td>3910.000000</td>\n",
       "      <td>3910.000000</td>\n",
       "      <td>3910.000000</td>\n",
       "      <td>3910.000000</td>\n",
       "      <td>3910.000000</td>\n",
       "      <td>3910.000000</td>\n",
       "      <td>3910.000000</td>\n",
       "      <td>3910.000000</td>\n",
       "    </tr>\n",
       "    <tr>\n",
       "      <th>mean</th>\n",
       "      <td>15564.447059</td>\n",
       "      <td>91.649361</td>\n",
       "      <td>2.098721</td>\n",
       "      <td>83.230691</td>\n",
       "      <td>0.112788</td>\n",
       "      <td>1274.397832</td>\n",
       "      <td>0.057033</td>\n",
       "      <td>2.268542</td>\n",
       "      <td>722.131338</td>\n",
       "      <td>0.276215</td>\n",
       "    </tr>\n",
       "    <tr>\n",
       "      <th>std</th>\n",
       "      <td>1575.324626</td>\n",
       "      <td>100.365462</td>\n",
       "      <td>1.055131</td>\n",
       "      <td>131.120889</td>\n",
       "      <td>0.329833</td>\n",
       "      <td>1896.155427</td>\n",
       "      <td>0.231936</td>\n",
       "      <td>1.269920</td>\n",
       "      <td>1057.080028</td>\n",
       "      <td>0.526525</td>\n",
       "    </tr>\n",
       "    <tr>\n",
       "      <th>min</th>\n",
       "      <td>12346.000000</td>\n",
       "      <td>0.000000</td>\n",
       "      <td>0.000000</td>\n",
       "      <td>1.000000</td>\n",
       "      <td>0.000000</td>\n",
       "      <td>-4287.630000</td>\n",
       "      <td>0.000000</td>\n",
       "      <td>0.000000</td>\n",
       "      <td>-4287.630000</td>\n",
       "      <td>0.000000</td>\n",
       "    </tr>\n",
       "    <tr>\n",
       "      <th>25%</th>\n",
       "      <td>14212.250000</td>\n",
       "      <td>16.000000</td>\n",
       "      <td>1.000000</td>\n",
       "      <td>16.250000</td>\n",
       "      <td>0.000000</td>\n",
       "      <td>279.230000</td>\n",
       "      <td>0.000000</td>\n",
       "      <td>1.000000</td>\n",
       "      <td>101.250000</td>\n",
       "      <td>0.000000</td>\n",
       "    </tr>\n",
       "    <tr>\n",
       "      <th>50%</th>\n",
       "      <td>15575.000000</td>\n",
       "      <td>49.500000</td>\n",
       "      <td>2.000000</td>\n",
       "      <td>40.000000</td>\n",
       "      <td>0.000000</td>\n",
       "      <td>618.040000</td>\n",
       "      <td>0.000000</td>\n",
       "      <td>2.000000</td>\n",
       "      <td>358.585000</td>\n",
       "      <td>0.000000</td>\n",
       "    </tr>\n",
       "    <tr>\n",
       "      <th>75%</th>\n",
       "      <td>16913.750000</td>\n",
       "      <td>144.000000</td>\n",
       "      <td>3.000000</td>\n",
       "      <td>98.000000</td>\n",
       "      <td>0.000000</td>\n",
       "      <td>1483.497500</td>\n",
       "      <td>0.000000</td>\n",
       "      <td>3.000000</td>\n",
       "      <td>917.290000</td>\n",
       "      <td>0.000000</td>\n",
       "    </tr>\n",
       "    <tr>\n",
       "      <th>max</th>\n",
       "      <td>18287.000000</td>\n",
       "      <td>373.000000</td>\n",
       "      <td>3.000000</td>\n",
       "      <td>2782.000000</td>\n",
       "      <td>2.000000</td>\n",
       "      <td>21535.900000</td>\n",
       "      <td>1.000000</td>\n",
       "      <td>6.000000</td>\n",
       "      <td>8432.680000</td>\n",
       "      <td>2.000000</td>\n",
       "    </tr>\n",
       "  </tbody>\n",
       "</table>\n",
       "</div>"
      ],
      "text/plain": [
       "         CustomerID      Recency  RecencyCluster    Frequency   \n",
       "count   3910.000000  3910.000000     3910.000000  3910.000000  \\\n",
       "mean   15564.447059    91.649361        2.098721    83.230691   \n",
       "std     1575.324626   100.365462        1.055131   131.120889   \n",
       "min    12346.000000     0.000000        0.000000     1.000000   \n",
       "25%    14212.250000    16.000000        1.000000    16.250000   \n",
       "50%    15575.000000    49.500000        2.000000    40.000000   \n",
       "75%    16913.750000   144.000000        3.000000    98.000000   \n",
       "max    18287.000000   373.000000        3.000000  2782.000000   \n",
       "\n",
       "       FrequencyCluster       Revenue  RevenueCluster  OverallScore   \n",
       "count       3910.000000   3910.000000     3910.000000   3910.000000  \\\n",
       "mean           0.112788   1274.397832        0.057033      2.268542   \n",
       "std            0.329833   1896.155427        0.231936      1.269920   \n",
       "min            0.000000  -4287.630000        0.000000      0.000000   \n",
       "25%            0.000000    279.230000        0.000000      1.000000   \n",
       "50%            0.000000    618.040000        0.000000      2.000000   \n",
       "75%            0.000000   1483.497500        0.000000      3.000000   \n",
       "max            2.000000  21535.900000        1.000000      6.000000   \n",
       "\n",
       "        m6_Revenue   LTVCluster  \n",
       "count  3910.000000  3910.000000  \n",
       "mean    722.131338     0.276215  \n",
       "std    1057.080028     0.526525  \n",
       "min   -4287.630000     0.000000  \n",
       "25%     101.250000     0.000000  \n",
       "50%     358.585000     0.000000  \n",
       "75%     917.290000     0.000000  \n",
       "max    8432.680000     2.000000  "
      ]
     },
     "execution_count": 11,
     "metadata": {},
     "output_type": "execute_result"
    }
   ],
   "source": [
    "tx_class.describe()"
   ]
  },
  {
   "cell_type": "code",
   "execution_count": 12,
   "id": "7400aa3b",
   "metadata": {},
   "outputs": [
    {
     "data": {
      "text/plain": [
       "LTVCluster            1.000000\n",
       "m6_Revenue            0.878757\n",
       "Revenue               0.776924\n",
       "RevenueCluster        0.608345\n",
       "Frequency             0.568411\n",
       "OverallScore          0.540214\n",
       "FrequencyCluster      0.515850\n",
       "Segment_High-Value    0.496705\n",
       "RecencyCluster        0.355204\n",
       "Segment_Mid-Value     0.188219\n",
       "CustomerID           -0.027388\n",
       "Recency              -0.346686\n",
       "Segment_Low-Value    -0.377251\n",
       "Name: LTVCluster, dtype: float64"
      ]
     },
     "execution_count": 12,
     "metadata": {},
     "output_type": "execute_result"
    }
   ],
   "source": [
    "#calculate and show correlations\n",
    "corr_matrix = tx_class.corr()\n",
    "corr_matrix['LTVCluster'].sort_values(ascending=False)"
   ]
  },
  {
   "cell_type": "code",
   "execution_count": 13,
   "id": "725ecb72",
   "metadata": {},
   "outputs": [],
   "source": [
    "#create X and y, X will be feature set and y is the label - LTV\n",
    "X = tx_class.drop(['LTVCluster','m6_Revenue'],axis=1)\n",
    "y = tx_class['LTVCluster']\n",
    "\n",
    "#split training and test sets\n",
    "X_train, X_test, y_train, y_test = train_test_split(X, y, test_size=0.05, random_state=56)"
   ]
  },
  {
   "cell_type": "markdown",
   "id": "a01ff223",
   "metadata": {},
   "source": [
    "## Models\n",
    "\n",
    "Since our LTV Clusters are 3 types, high LTV, mid LTV and low LTV; we will perform multi class classification."
   ]
  },
  {
   "cell_type": "code",
   "execution_count": 14,
   "id": "259385cf",
   "metadata": {},
   "outputs": [
    {
     "name": "stderr",
     "output_type": "stream",
     "text": [
      "2023/07/25 10:13:32 INFO mlflow.tracking.fluent: Experiment with name 'CLTV' does not exist. Creating a new experiment.\n"
     ]
    }
   ],
   "source": [
    "mlflow.set_experiment(\"CLTV\")\n",
    "mlflow.sklearn.autolog(disable=True)"
   ]
  },
  {
   "cell_type": "markdown",
   "id": "ab660d43",
   "metadata": {},
   "source": [
    "### 1. XGBoost "
   ]
  },
  {
   "cell_type": "code",
   "execution_count": 15,
   "id": "6b169907",
   "metadata": {},
   "outputs": [
    {
     "name": "stdout",
     "output_type": "stream",
     "text": [
      "maxdepth5_learningrate01\n"
     ]
    }
   ],
   "source": [
    "params = {\n",
    "        \"max_depth\": 5,\n",
    "        \"learning_rate\":0.1}\n",
    "parsuf = '_'.join([key.replace('_','')+str(val).replace('.','') for key,val in params.items()])\n",
    "print(parsuf)"
   ]
  },
  {
   "cell_type": "code",
   "execution_count": 17,
   "id": "aee93e59",
   "metadata": {},
   "outputs": [
    {
     "ename": "NameError",
     "evalue": "name 'ltv_xgb_model' is not defined",
     "output_type": "error",
     "traceback": [
      "\u001b[1;31m---------------------------------------------------------------------------\u001b[0m",
      "\u001b[1;31mNameError\u001b[0m                                 Traceback (most recent call last)",
      "Cell \u001b[1;32mIn[17], line 18\u001b[0m\n\u001b[0;32m      9\u001b[0m mlflow\u001b[38;5;241m.\u001b[39mlog_params(params)\n\u001b[0;32m     11\u001b[0m ltv_xgb \u001b[38;5;241m=\u001b[39m xgb\u001b[38;5;241m.\u001b[39mXGBClassifier(\n\u001b[0;32m     12\u001b[0m     max_depth\u001b[38;5;241m=\u001b[39mparams[\u001b[38;5;124m'\u001b[39m\u001b[38;5;124mmax_depth\u001b[39m\u001b[38;5;124m'\u001b[39m], \n\u001b[0;32m     13\u001b[0m     learning_rate\u001b[38;5;241m=\u001b[39mparams[\u001b[38;5;124m'\u001b[39m\u001b[38;5;124mlearning_rate\u001b[39m\u001b[38;5;124m'\u001b[39m],\n\u001b[0;32m     14\u001b[0m     n_jobs\u001b[38;5;241m=\u001b[39m\u001b[38;5;241m-\u001b[39m\u001b[38;5;241m1\u001b[39m\n\u001b[0;32m     15\u001b[0m )\u001b[38;5;241m.\u001b[39mfit(X_train, y_train)\n\u001b[0;32m     17\u001b[0m \u001b[38;5;28mprint\u001b[39m(\u001b[38;5;124m'\u001b[39m\u001b[38;5;124mAccuracy of XGB classifier on training set: \u001b[39m\u001b[38;5;132;01m{:.2f}\u001b[39;00m\u001b[38;5;124m'\u001b[39m\n\u001b[1;32m---> 18\u001b[0m        \u001b[38;5;241m.\u001b[39mformat(\u001b[43mltv_xgb_model\u001b[49m\u001b[38;5;241m.\u001b[39mscore(X_train, y_train)))\n\u001b[0;32m     19\u001b[0m \u001b[38;5;28mprint\u001b[39m(\u001b[38;5;124m'\u001b[39m\u001b[38;5;124mAccuracy of XGB classifier on test set: \u001b[39m\u001b[38;5;132;01m{:.2f}\u001b[39;00m\u001b[38;5;124m'\u001b[39m\n\u001b[0;32m     20\u001b[0m        \u001b[38;5;241m.\u001b[39mformat(ltv_xgb_model\u001b[38;5;241m.\u001b[39mscore(X_test[X_train\u001b[38;5;241m.\u001b[39mcolumns], y_test)))\n\u001b[0;32m     22\u001b[0m y_pred \u001b[38;5;241m=\u001b[39m ltv_xgb_model\u001b[38;5;241m.\u001b[39mpredict(X_test)\n",
      "\u001b[1;31mNameError\u001b[0m: name 'ltv_xgb_model' is not defined"
     ]
    }
   ],
   "source": [
    "basemodelname = \"xgboost\"\n",
    "with mlflow.start_run(run_name=basemodelname):\n",
    "    params = {\n",
    "        \"max_depth\": 5,\n",
    "        \"learning_rate\":0.1}\n",
    "    parsuf = '_'.join([key.replace('_','')+str(val).replace('.','') for key,val in params.items()])\n",
    "    modelname=f\"{basemodelname}_{parsuf}\"\n",
    "    mlflow.set_tag(\"model_name\", modelname)\n",
    "    mlflow.log_params(params)\n",
    "    \n",
    "    ltv_xgb = xgb.XGBClassifier(\n",
    "        max_depth=params['max_depth'], \n",
    "        learning_rate=params['learning_rate'],\n",
    "        n_jobs=-1\n",
    "    ).fit(X_train, y_train)\n",
    "\n",
    "    print('Accuracy of XGB classifier on training set: {:.2f}'\n",
    "           .format(ltv_xgb.score(X_train, y_train)))\n",
    "    print('Accuracy of XGB classifier on test set: {:.2f}'\n",
    "           .format(ltv_xgb_model.score(X_test[X_train.columns], y_test)))\n",
    "\n",
    "    y_pred = ltv_xgb_model.predict(X_test)\n",
    "    # clfreport = classification_report(y_test, y_pred)\n",
    "    acc = accuracy_score(y_test, y_pred)\n",
    "    prf1s = precision_recall_fscore_support(y_test, y_pred)\n",
    "    #print(f\"precision:{prf1s[0]}\\nrecall:{prf1s[1]}\\nf1-score:{prf1s[2]}\\naccuracy:{acc}\")\n",
    "    mlflow.log_metric('test_acc', acc)\n",
    "    mlflow.sklearn.log_model(ltv_xgb, \"ltv_xgb\")"
   ]
  },
  {
   "cell_type": "code",
   "execution_count": null,
   "id": "7dd6449a",
   "metadata": {},
   "outputs": [],
   "source": []
  }
 ],
 "metadata": {
  "kernelspec": {
   "display_name": "Python 3 (ipykernel)",
   "language": "python",
   "name": "python3"
  },
  "language_info": {
   "codemirror_mode": {
    "name": "ipython",
    "version": 3
   },
   "file_extension": ".py",
   "mimetype": "text/x-python",
   "name": "python",
   "nbconvert_exporter": "python",
   "pygments_lexer": "ipython3",
   "version": "3.9.13"
  }
 },
 "nbformat": 4,
 "nbformat_minor": 5
}
