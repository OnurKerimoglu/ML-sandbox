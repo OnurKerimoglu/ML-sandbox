{
 "cells": [
  {
   "cell_type": "markdown",
   "id": "a05fad42",
   "metadata": {
    "slideshow": {
     "slide_type": "slide"
    }
   },
   "source": [
    "# Intro\n",
    "This notebook deals with the evaluation of classification models."
   ]
  },
  {
   "cell_type": "markdown",
   "id": "8487d5fe",
   "metadata": {
    "slideshow": {
     "slide_type": "slide"
    }
   },
   "source": [
    "# A classification model"
   ]
  },
  {
   "cell_type": "code",
   "execution_count": 20,
   "id": "34cb066a",
   "metadata": {
    "slideshow": {
     "slide_type": "subslide"
    }
   },
   "outputs": [
    {
     "ename": "SyntaxError",
     "evalue": "invalid syntax (1682317229.py, line 25)",
     "output_type": "error",
     "traceback": [
      "\u001b[1;36m  Cell \u001b[1;32mIn[20], line 25\u001b[1;36m\u001b[0m\n\u001b[1;33m    knn = KNeighborsClassifier(n_neighbors=8)\u001b[0m\n\u001b[1;37m    ^\u001b[0m\n\u001b[1;31mSyntaxError\u001b[0m\u001b[1;31m:\u001b[0m invalid syntax\n"
     ]
    }
   ],
   "source": [
    "import pandas as pd\n",
    "from sklearn.datasets import load_breast_cancer\n",
    "from sklearn.neighbors import KNeighborsClassifier\n",
    "from sklearn.model_selection import train_test_split\n",
    " \n",
    "def to_target(x):\n",
    "    \"\"\"Map targets to target names\"\"\"   \n",
    "    return list(dataset.target_names)[x]\n",
    " \n",
    "# Load data\n",
    "dataset = load_breast_cancer()\n",
    "df = pd.DataFrame(dataset.data,columns=dataset.feature_names)\n",
    "df['target'] = pd.Series(dataset.target)\n",
    "df['target_names'] = df['target'].apply(to_target)\n",
    "\n",
    " \n",
    "# Define predictor and predicted datasets\n",
    "X = df.drop(['target','target_names'], axis=1).values\n",
    "y = df['target_names'].values\n",
    " \n",
    "# split taining and test set\n",
    "X_train, X_test, y_train, y_test = train_test_split(X, y, test_size=0.3, random_state=42, stratify=y\n",
    " \n",
    "# train the model\n",
    "                                    knn = KNeighborsClassifier(n_neighbors=8)\n",
    "knn.fit(X_train, y_train)\n",
    "y_pred = knn.predict(X_test)\n",
    " \n",
    "# compute accuracy of the model\n",
    "knn.score(X_test, y_test)"
   ]
  },
  {
   "cell_type": "markdown",
   "id": "9e84b0e6",
   "metadata": {},
   "source": [
    "## The Confusion Matrix"
   ]
  },
  {
   "cell_type": "code",
   "execution_count": 19,
   "id": "75d3ebae",
   "metadata": {
    "slideshow": {
     "slide_type": "subslide"
    }
   },
   "outputs": [
    {
     "data": {
      "image/png": "[encoded data removed]",
      "text/plain": [
       "<Figure size 500x500 with 2 Axes>"
      ]
     },
     "metadata": {},
     "output_type": "display_data"
    }
   ],
   "source": [
    "#create and visualize the confusion matrix\n",
    "from sklearn.metrics import confusion_matrix\n",
    "cm = confusion_matrix(y_test,y_pred)\n",
    "\n",
    "import matplotlib.pyplot as plt\n",
    "from sklearn.metrics import ConfusionMatrixDisplay\n",
    " \n",
    "fig = plt.figure(figsize=(5, 5))\n",
    "ax = fig.add_subplot(111)\n",
    "\n",
    "color = 'white'\n",
    "disp = ConfusionMatrixDisplay(confusion_matrix=cm,display_labels=['Negative','Positive'])\n",
    "disp.plot(ax=ax, xticks_rotation='vertical')\n",
    "plt.show()"
   ]
  }
 ],
 "metadata": {
  "celltoolbar": "Slideshow",
  "kernelspec": {
   "display_name": "Python 3 (ipykernel)",
   "language": "python",
   "name": "python3"
  },
  "language_info": {
   "codemirror_mode": {
    "name": "ipython",
    "version": 3
   },
   "file_extension": ".py",
   "mimetype": "text/x-python",
   "name": "python",
   "nbconvert_exporter": "python",
   "pygments_lexer": "ipython3",
   "version": "3.9.13"
  },
  "toc": {
   "base_numbering": 1,
   "nav_menu": {
    "height": "66px",
    "width": "280px"
   },
   "number_sections": true,
   "sideBar": true,
   "skip_h1_title": false,
   "title_cell": "Table of Contents",
   "title_sidebar": "Contents",
   "toc_cell": false,
   "toc_position": {
    "height": "calc(100% - 180px)",
    "left": "10px",
    "top": "150px",
    "width": "366.797px"
   },
   "toc_section_display": true,
   "toc_window_display": false
  }
 },
 "nbformat": 4,
 "nbformat_minor": 5
}
